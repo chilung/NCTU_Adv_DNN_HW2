{
 "cells": [
  {
   "cell_type": "code",
   "execution_count": 4,
   "metadata": {},
   "outputs": [],
   "source": [
    "import numpy as np\n",
    "import cv2\n",
    "import os\n",
    "import pandas as pd\n",
    "import h5py"
   ]
  },
  {
   "cell_type": "code",
   "execution_count": 5,
   "metadata": {},
   "outputs": [],
   "source": [
    "train_folder = \"./train\"\n",
    "test_folder = \"./test\"\n",
    "extra_folder = \"./extra\"\n",
    "resize_size = (64,64)"
   ]
  },
  {
   "cell_type": "code",
   "execution_count": 6,
   "metadata": {},
   "outputs": [],
   "source": [
    "def collapse_col(row):\n",
    "    global resize_size\n",
    "    new_row = {}\n",
    "    new_row['img_name'] = list(row['img_name'])[0]\n",
    "    new_row['labels'] = row['label'].astype(np.str).str.cat(sep='_')\n",
    "    new_row['top'] = max(int(row['top'].min()),0)\n",
    "    new_row['left'] = max(int(row['left'].min()),0)\n",
    "    new_row['bottom'] = int(row['bottom'].max())\n",
    "    new_row['right'] = int(row['right'].max())\n",
    "    new_row['width'] = int(new_row['right'] - new_row['left'])\n",
    "    new_row['height'] = int(new_row['bottom'] - new_row['top'])\n",
    "    new_row['num_digits'] = len(row['label'].values)\n",
    "    return pd.Series(new_row,index=None)"
   ]
  },
  {
   "cell_type": "code",
   "execution_count": 7,
   "metadata": {},
   "outputs": [],
   "source": [
    "def image_data_constuctor(img_folder, img_bbox_data):\n",
    "    print('image data construction starting...')\n",
    "    imgs = []\n",
    "    for img_file in os.listdir(img_folder):\n",
    "        if img_file.endswith('.png'):\n",
    "            imgs.append([img_file,cv2.imread(os.path.join(img_folder,img_file))])\n",
    "    img_data = pd.DataFrame([],columns=['img_name','img_height','img_width','img','cut_img'])\n",
    "    print('finished loading images...starting image processing...')\n",
    "    for img_info in imgs:\n",
    "        row = img_bbox_data[img_bbox_data['img_name']==img_info[0]]\n",
    "        full_img = img_info[1] #cv2.normalize(cv2.cvtColor(cv2.resize(img_info[1],resize_size), cv2.COLOR_BGR2GRAY).astype(np.float64), 0, 1, cv2.NORM_MINMAX)\n",
    "        cut_img = full_img.copy()[int(row['top']):int(row['top']+row['height']),int(row['left']):int(row['left']+row['width']),...]\n",
    "        row_dict = {'img_name':[img_info[0]],'img_height':[img_info[1].shape[0]],'img_width':[img_info[1].shape[1]],'img':[full_img],'cut_img':[cut_img]}\n",
    "        img_data = pd.concat([img_data,pd.DataFrame.from_dict(row_dict,orient = 'columns')])\n",
    "    print('finished image processing...')\n",
    "    return img_data"
   ]
  },
  {
   "cell_type": "code",
   "execution_count": 8,
   "metadata": {},
   "outputs": [],
   "source": [
    "def get_name(index, hdf5_data):\n",
    "    name = hdf5_data['/digitStruct/name']\n",
    "    return ''.join([chr(v[0]) for v in hdf5_data[name[index][0]].value])"
   ]
  },
  {
   "cell_type": "code",
   "execution_count": 9,
   "metadata": {},
   "outputs": [],
   "source": [
    "def get_bbox(index, hdf5_data):\n",
    "    attrs = {}\n",
    "    item = hdf5_data['digitStruct']['bbox'][index].item()\n",
    "    for key in ['label', 'left', 'top', 'width', 'height']:\n",
    "        attr = hdf5_data[item][key]\n",
    "        values = [hdf5_data[attr.value[i].item()].value[0][0]\n",
    "                  for i in range(len(attr))] if len(attr) > 1 else [attr.value[0][0]]\n",
    "        attrs[key] = values\n",
    "    return attrs"
   ]
  },
  {
   "cell_type": "code",
   "execution_count": 10,
   "metadata": {},
   "outputs": [],
   "source": [
    "def img_boundingbox_data_constructor(mat_file):\n",
    "    f = h5py.File(mat_file,'r') \n",
    "    all_rows = []\n",
    "    print('image bounding box data construction starting...')\n",
    "    bbox_df = pd.DataFrame([],columns=['height','img_name','label','left','top','width'])\n",
    "    i = 0\n",
    "    for j in range(f['/digitStruct/bbox'].shape[0]):\n",
    "        img_name = get_name(j, f)\n",
    "        row_dict = get_bbox(j, f)\n",
    "        row_dict['img_name'] = img_name\n",
    "        if (i % 1000) == 0:\n",
    "            print(row_dict)\n",
    "        i += 1\n",
    "        all_rows.append(row_dict)\n",
    "        bbox_df = pd.concat([bbox_df,pd.DataFrame.from_dict(row_dict,orient = 'columns')])\n",
    "    \n",
    "    bbox_df['bottom'] = bbox_df['top']+bbox_df['height']\n",
    "    bbox_df['right'] = bbox_df['left']+bbox_df['width']\n",
    "    print('finished image bounding box data construction...')\n",
    "    return bbox_df"
   ]
  },
  {
   "cell_type": "code",
   "execution_count": 11,
   "metadata": {},
   "outputs": [],
   "source": [
    "def construct_all_data(img_folder,mat_file_name,h5_name):\n",
    "    img_bbox_data = img_boundingbox_data_constructor(os.path.join(img_folder,mat_file_name))\n",
    "    print(\"\\nimg_bbox_data:\\n{}\".format(img_bbox_data))\n",
    "    img_bbox_data_grouped = img_bbox_data.groupby('img_name').apply(collapse_col) \n",
    "    img_data = image_data_constuctor(img_folder, img_bbox_data_grouped)\n",
    "    print('done constructing main dataframes...starting grouping')\n",
    "    df1 = img_bbox_data_grouped.merge(img_data,on='img_name',how='left')\n",
    "    print('grouping done')\n",
    "    #df1.to_csv(os.path.join(img_folder,csv_name), index = False)\n",
    "    df1.to_hdf(os.path.join(img_folder,h5_name),'table')"
   ]
  },
  {
   "cell_type": "code",
   "execution_count": null,
   "metadata": {},
   "outputs": [
    {
     "name": "stdout",
     "output_type": "stream",
     "text": [
      "image bounding box data construction starting...\n",
      "{'label': [1.0, 9.0], 'left': [246.0, 323.0], 'top': [77.0, 81.0], 'width': [81.0, 96.0], 'height': [219.0, 219.0], 'img_name': '1.png'}\n"
     ]
    },
    {
     "name": "stderr",
     "output_type": "stream",
     "text": [
      "<ipython-input-8-f68001855196>:3: H5pyDeprecationWarning: dataset.value has been deprecated. Use dataset[()] instead.\n",
      "  return ''.join([chr(v[0]) for v in hdf5_data[name[index][0]].value])\n",
      "<ipython-input-9-122470932d59>:6: H5pyDeprecationWarning: dataset.value has been deprecated. Use dataset[()] instead.\n",
      "  values = [hdf5_data[attr.value[i].item()].value[0][0]\n",
      "<ipython-input-9-122470932d59>:7: H5pyDeprecationWarning: dataset.value has been deprecated. Use dataset[()] instead.\n",
      "  for i in range(len(attr))] if len(attr) > 1 else [attr.value[0][0]]\n"
     ]
    },
    {
     "name": "stdout",
     "output_type": "stream",
     "text": [
      "{'label': [6.0], 'left': [36.0], 'top': [4.0], 'width': [14.0], 'height': [31.0], 'img_name': '1001.png'}\n",
      "{'label': [3.0], 'left': [37.0], 'top': [5.0], 'width': [14.0], 'height': [34.0], 'img_name': '2001.png'}\n",
      "{'label': [3.0, 9.0], 'left': [66.0, 90.0], 'top': [13.0, 14.0], 'width': [28.0, 31.0], 'height': [72.0, 72.0], 'img_name': '3001.png'}\n",
      "{'label': [6.0, 1.0], 'left': [23.0, 38.0], 'top': [3.0, 4.0], 'width': [14.0, 7.0], 'height': [25.0, 25.0], 'img_name': '4001.png'}\n",
      "{'label': [3.0, 4.0, 7.0], 'left': [65.0, 78.0, 87.0], 'top': [32.0, 32.0, 27.0], 'width': [16.0, 12.0, 14.0], 'height': [30.0, 30.0, 30.0], 'img_name': '5001.png'}\n",
      "{'label': [5.0, 6.0], 'left': [56.0, 74.0], 'top': [21.0, 21.0], 'width': [19.0, 17.0], 'height': [39.0, 39.0], 'img_name': '6001.png'}\n",
      "{'label': [6.0, 10.0], 'left': [39.0, 63.0], 'top': [1.0, 6.0], 'width': [23.0, 25.0], 'height': [43.0, 43.0], 'img_name': '7001.png'}\n",
      "{'label': [3.0], 'left': [63.0], 'top': [13.0], 'width': [41.0], 'height': [62.0], 'img_name': '8001.png'}\n",
      "{'label': [8.0, 10.0], 'left': [26.0, 42.0], 'top': [7.0, 7.0], 'width': [15.0, 12.0], 'height': [25.0, 25.0], 'img_name': '9001.png'}\n",
      "{'label': [4.0, 1.0], 'left': [27.0, 33.0], 'top': [5.0, 4.0], 'width': [6.0, 6.0], 'height': [20.0, 20.0], 'img_name': '10001.png'}\n",
      "{'label': [10.0, 9.0], 'left': [102.0, 129.0], 'top': [23.0, 23.0], 'width': [30.0, 33.0], 'height': [66.0, 66.0], 'img_name': '11001.png'}\n",
      "{'label': [1.0, 10.0], 'left': [19.0, 23.0], 'top': [4.0, 3.0], 'width': [5.0, 10.0], 'height': [15.0, 15.0], 'img_name': '12001.png'}\n",
      "{'label': [4.0, 10.0, 2.0], 'left': [23.0, 34.0, 44.0], 'top': [1.0, 1.0, 1.0], 'width': [10.0, 11.0, 13.0], 'height': [27.0, 27.0, 27.0], 'img_name': '13001.png'}\n",
      "{'label': [6.0], 'left': [37.0], 'top': [3.0], 'width': [30.0], 'height': [51.0], 'img_name': '14001.png'}\n",
      "{'label': [4.0, 6.0, 5.0], 'left': [89.0, 110.0, 132.0], 'top': [44.0, 35.0, 16.0], 'width': [23.0, 28.0, 38.0], 'height': [40.0, 40.0, 40.0], 'img_name': '15001.png'}\n",
      "{'label': [1.0, 5.0], 'left': [219.0, 283.0], 'top': [50.0, 33.0], 'width': [69.0, 87.0], 'height': [218.0, 218.0], 'img_name': '16001.png'}\n",
      "{'label': [7.0], 'left': [20.0], 'top': [4.0], 'width': [10.0], 'height': [15.0], 'img_name': '17001.png'}\n",
      "{'label': [2.0, 7.0, 3.0], 'left': [36.0, 45.0, 51.0], 'top': [8.0, 9.0, 10.0], 'width': [11.0, 8.0, 12.0], 'height': [19.0, 19.0, 19.0], 'img_name': '18001.png'}\n",
      "{'label': [9.0], 'left': [52.0], 'top': [9.0], 'width': [32.0], 'height': [51.0], 'img_name': '19001.png'}\n",
      "{'label': [1.0, 3.0, 6.0], 'left': [172.0, 185.0, 208.0], 'top': [108.0, 105.0, 98.0], 'width': [18.0, 26.0, 24.0], 'height': [58.0, 58.0, 58.0], 'img_name': '20001.png'}\n",
      "{'label': [5.0, 10.0], 'left': [17.0, 27.0], 'top': [4.0, 2.0], 'width': [8.0, 10.0], 'height': [19.0, 19.0], 'img_name': '21001.png'}\n",
      "{'label': [2.0, 4.0], 'left': [30.0, 44.0], 'top': [8.0, 5.0], 'width': [13.0, 16.0], 'height': [22.0, 22.0], 'img_name': '22001.png'}\n",
      "{'label': [3.0, 9.0, 10.0, 2.0], 'left': [60.0, 81.0, 103.0, 120.0], 'top': [22.0, 23.0, 20.0, 22.0], 'width': [23.0, 24.0, 23.0, 24.0], 'height': [35.0, 35.0, 35.0, 35.0], 'img_name': '23001.png'}\n",
      "{'label': [2.0, 9.0, 1.0], 'left': [53.0, 73.0, 86.0], 'top': [14.0, 19.0, 22.0], 'width': [19.0, 15.0, 12.0], 'height': [34.0, 34.0, 34.0], 'img_name': '24001.png'}\n",
      "{'label': [7.0, 6.0, 8.0], 'left': [68.0, 101.0, 126.0], 'top': [9.0, 5.0, 9.0], 'width': [28.0, 24.0, 26.0], 'height': [75.0, 75.0, 75.0], 'img_name': '25001.png'}\n",
      "{'label': [7.0, 10.0], 'left': [21.0, 28.0], 'top': [1.0, 1.0], 'width': [9.0, 12.0], 'height': [25.0, 25.0], 'img_name': '26001.png'}\n",
      "{'label': [8.0], 'left': [33.0], 'top': [12.0], 'width': [16.0], 'height': [33.0], 'img_name': '27001.png'}\n",
      "{'label': [9.0, 6.0], 'left': [17.0, 23.0], 'top': [3.0, 2.0], 'width': [6.0, 7.0], 'height': [12.0, 12.0], 'img_name': '28001.png'}\n"
     ]
    }
   ],
   "source": [
    "construct_all_data(train_folder,'digitStruct.mat','train_data_processed.h5')\n",
    "# construct_all_data(test_folder,'digitStruct.mat','test_data_processed.h5')\n",
    "# construct_all_data(extra_folder,'digitStruct.mat','extra_data_processed.h5') #takes a long time"
   ]
  },
  {
   "cell_type": "code",
   "execution_count": null,
   "metadata": {},
   "outputs": [],
   "source": []
  },
  {
   "cell_type": "code",
   "execution_count": null,
   "metadata": {},
   "outputs": [],
   "source": []
  }
 ],
 "metadata": {
  "kernelspec": {
   "display_name": "Python 3",
   "language": "python",
   "name": "python3"
  },
  "language_info": {
   "codemirror_mode": {
    "name": "ipython",
    "version": 3
   },
   "file_extension": ".py",
   "mimetype": "text/x-python",
   "name": "python",
   "nbconvert_exporter": "python",
   "pygments_lexer": "ipython3",
   "version": "3.8.5"
  }
 },
 "nbformat": 4,
 "nbformat_minor": 4
}
