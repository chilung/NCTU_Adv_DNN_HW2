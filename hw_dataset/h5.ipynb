{
 "cells": [
  {
   "cell_type": "code",
   "execution_count": 11,
   "metadata": {},
   "outputs": [],
   "source": [
    "import numpy as np\n",
    "import cv2\n",
    "import os\n",
    "import pandas as pd\n",
    "import h5py"
   ]
  },
  {
   "cell_type": "code",
   "execution_count": 12,
   "metadata": {},
   "outputs": [],
   "source": [
    "train_folder = \"./train\"\n",
    "test_folder = \"./test\"\n",
    "extra_folder = \"./extra\"\n",
    "resize_size = (64, 64)"
   ]
  },
  {
   "cell_type": "code",
   "execution_count": 13,
   "metadata": {},
   "outputs": [],
   "source": [
    "def collapse_col(row):\n",
    "    global resize_size\n",
    "    new_row = {}\n",
    "    new_row['img_name'] = list(row['img_name'])[0]\n",
    "    new_row['labels'] = row['label'].astype(np.str).str.cat(sep='_')\n",
    "    new_row['top'] = max(int(row['top'].min()), 0)\n",
    "    new_row['left'] = max(int(row['left'].min()), 0)\n",
    "    new_row['bottom'] = int(row['bottom'].max())\n",
    "    new_row['right'] = int(row['right'].max())\n",
    "    new_row['width'] = int(new_row['right'] - new_row['left'])\n",
    "    new_row['height'] = int(new_row['bottom'] - new_row['top'])\n",
    "    new_row['num_digits'] = len(row['label'].values)\n",
    "    return pd.Series(new_row, index=None)"
   ]
  },
  {
   "cell_type": "code",
   "execution_count": 14,
   "metadata": {},
   "outputs": [],
   "source": [
    "def get_name(index, hdf5_data):\n",
    "    name = hdf5_data['/digitStruct/name']\n",
    "    return ''.join([chr(v[0]) for v in hdf5_data[name[index][0]].value])"
   ]
  },
  {
   "cell_type": "code",
   "execution_count": 15,
   "metadata": {},
   "outputs": [],
   "source": [
    "def get_bbox(index, hdf5_data):\n",
    "    attrs = {}\n",
    "    item = hdf5_data['digitStruct']['bbox'][index].item()\n",
    "    for key in ['label', 'left', 'top', 'width', 'height']:\n",
    "        attr = hdf5_data[item][key]\n",
    "        values = [hdf5_data[attr.value[i].item()].value[0][0]\n",
    "                  for i in range(len(attr))] if len(attr) > 1 else [attr.value[0][0]]\n",
    "        attrs[key] = values\n",
    "    return attrs"
   ]
  },
  {
   "cell_type": "code",
   "execution_count": 16,
   "metadata": {},
   "outputs": [],
   "source": [
    "def getFilePathInfo(filepath):\n",
    "\n",
    "    dirname = os.path.dirname(filepath)\n",
    "    basename = os.path.basename(filepath)\n",
    "    info = os.path.splitext(basename)\n",
    "    filename = info[0]\n",
    "    extend = info[1]\n",
    " \n",
    "    return dirname, filename, extend"
   ]
  },
  {
   "cell_type": "code",
   "execution_count": 17,
   "metadata": {},
   "outputs": [],
   "source": [
    "def img_boundingbox_data_constructor(mat_file):\n",
    "    info = getFilePathInfo(mat_file)\n",
    "    bbox_csv_filepath = os.path.join(info[0], 'bbox.csv')\n",
    "    print(bbox_csv_filepath)\n",
    "\n",
    "    if os.path.isfile(bbox_csv_filepath):\n",
    "        print(\"bounding box file: {} exists, read from file\".format(bbox_csv_filepath))\n",
    "        bbox_df = pd.read_csv(bbox_csv_filepath)\n",
    "        # print(bbox_df)\n",
    "        print('finished image bounding box data construction...')\n",
    "        return bbox_df\n",
    "\n",
    "    f = h5py.File(mat_file, 'r')\n",
    "    all_rows = []\n",
    "    print('image bounding box data construction starting...')\n",
    "    bbox_df = pd.DataFrame([], columns=['height', 'img_name', 'label', 'left', 'top', 'width'])\n",
    "\n",
    "    i = 0\n",
    "    for j in range(f['/digitStruct/bbox'].shape[0]):\n",
    "        img_name = get_name(j, f)\n",
    "        row_dict = get_bbox(j, f)\n",
    "        row_dict['img_name'] = img_name\n",
    "        if (i % 1000) == 0:\n",
    "            print(row_dict)\n",
    "        all_rows.append(row_dict)\n",
    "        bbox_df = pd.concat([bbox_df, pd.DataFrame.from_dict(row_dict,orient = 'columns')])\n",
    "        # if j > 20:\n",
    "        #     break\n",
    "        i += 1\n",
    "\n",
    "    bbox_df['bottom'] = bbox_df['top']+bbox_df['height']\n",
    "    bbox_df['right'] = bbox_df['left']+bbox_df['width']\n",
    "    bbox_df.to_csv(bbox_csv_filepath, index = False)\n",
    "    print(bbox_df)\n",
    "    \n",
    "    print('finished image bounding box data construction...')\n",
    "    return bbox_df"
   ]
  },
  {
   "cell_type": "code",
   "execution_count": 18,
   "metadata": {},
   "outputs": [],
   "source": [
    "def construct_all_data(img_folder, mat_file_name, h5_name):\n",
    "    img_bbox_data = img_boundingbox_data_constructor(os.path.join(img_folder, mat_file_name))\n",
    "    print(\"\\nimg_bbox_data:\\n{}\".format(img_bbox_data))\n",
    "\n",
    "    bbox_groupby_name_csv_filepath = os.path.join(img_folder, 'bbox_groupby_name.csv')\n",
    "    if os.path.isfile(bbox_groupby_name_csv_filepath):\n",
    "        print(\"bounding box groupby name file: {} exists, read from file\".format(bbox_groupby_name_csv_filepath))\n",
    "        img_bbox_data_grouped = pd.read_csv(bbox_groupby_name_csv_filepath)\n",
    "    else:\n",
    "        img_bbox_data_grouped = img_bbox_data.groupby('img_name').apply(collapse_col) \n",
    "        img_bbox_data_grouped.to_csv(bbox_groupby_name_csv_filepath, index = False)\n",
    "    print(\"\\nimg_bbox_data groupby name:\\n{}\".format(img_bbox_data_grouped))\n",
    "    print(\"\\nimg_bbox_data groupby name ===========END===========\")\n",
    "\n",
    "    img_data = image_data_constuctor(img_folder, img_bbox_data_grouped)\n",
    "    print('done constructing main dataframes...starting grouping')\n",
    "\n",
    "    df1 = img_bbox_data_grouped.merge(img_data, on='img_name', how='left')\n",
    "    print('grouping done')\n",
    "    #df1.to_csv(os.path.join(img_folder, csv_name), index = False)\n",
    "    df1.to_hdf(os.path.join(img_folder, h5_name),'table')"
   ]
  },
  {
   "cell_type": "code",
   "execution_count": 19,
   "metadata": {},
   "outputs": [],
   "source": [
    "def image_data_constuctor(img_folder, img_bbox_data):\n",
    "    image_data_csv_filepath = os.path.join(img_folder, 'image_data.csv')\n",
    "    if os.path.isfile(image_data_csv_filepath):\n",
    "        print(\"image data file: {} exists, read from file\".format(image_data_csv_filepath))\n",
    "        img_data = pd.read_csv(image_data_csv_filepath)\n",
    "        return img_data\n",
    "    \n",
    "    print('image data construction starting...')\n",
    "    imgs = []\n",
    "    i = 0\n",
    "    for img_file in os.listdir(img_folder):\n",
    "        if img_file.endswith('.png'):\n",
    "            imgs.append([img_file, cv2.imread(os.path.join(img_folder, img_file))])\n",
    "            if (i % 1000) == 0:\n",
    "                print(img_file)\n",
    "            i += 1\n",
    "\n",
    "    img_data = pd.DataFrame([], columns=['img_name','img_height','img_width','img','cut_img'])\n",
    "    # print(\"Images: {}\".format(imgs[0]))\n",
    "    print('finished loading images...starting image processing...')\n",
    "\n",
    "    i = 0\n",
    "    for img_info in imgs:\n",
    "        if (i % 1000) == 0:\n",
    "            print(img_info[0])\n",
    "        i += 1\n",
    "        row = img_bbox_data[img_bbox_data['img_name']==img_info[0]]\n",
    "        # print('row: {}'.format(row))\n",
    "        full_img = img_info[1] #cv2.normalize(cv2.cvtColor(cv2.resize(img_info[1], resize_size), cv2.COLOR_BGR2GRAY).astype(np.float64), 0, 1, cv2.NORM_MINMAX)\n",
    "        cut_img = full_img.copy()[int(row['top']): int(row['top']+row['height']), int(row['left']): int(row['left']+row['width']), ...]\n",
    "        row_dict = {'img_name':[img_info[0]], 'img_height':[img_info[1].shape[0]], 'img_width':[img_info[1].shape[1]], 'img':[full_img], 'cut_img':[cut_img]}\n",
    "        img_data = pd.concat([img_data, pd.DataFrame.from_dict(row_dict, orient = 'columns')])\n",
    "    \n",
    "    print('finished image processing...')\n",
    "    print(img_data)\n",
    "    img_data.to_csv(image_data_csv_filepath, index = False)\n",
    "    \n",
    "    return img_data"
   ]
  },
  {
   "cell_type": "code",
   "execution_count": 20,
   "metadata": {},
   "outputs": [
    {
     "name": "stdout",
     "output_type": "stream",
     "text": [
      "./train/bbox.csv\n",
      "bounding box file: ./train/bbox.csv exists, read from file\n",
      "finished image bounding box data construction...\n",
      "\n",
      "img_bbox_data:\n",
      "       height   img_name  label   left   top  width  bottom  right\n",
      "0       219.0      1.png    1.0  246.0  77.0   81.0   296.0  327.0\n",
      "1       219.0      1.png    9.0  323.0  81.0   96.0   300.0  419.0\n",
      "2        32.0      2.png    2.0   77.0  29.0   23.0    61.0  100.0\n",
      "3        32.0      2.png    3.0   98.0  25.0   26.0    57.0  124.0\n",
      "4        15.0      3.png    2.0   17.0   5.0    8.0    20.0   25.0\n",
      "...       ...        ...    ...    ...   ...    ...     ...    ...\n",
      "73252    40.0  33401.png    2.0   34.0   6.0   25.0    46.0   59.0\n",
      "73253    40.0  33401.png    2.0   61.0   4.0   25.0    44.0   86.0\n",
      "73254    25.0  33402.png    1.0   35.0  10.0    7.0    35.0   42.0\n",
      "73255    25.0  33402.png    6.0   44.0   8.0   15.0    33.0   59.0\n",
      "73256    25.0  33402.png    9.0   62.0   9.0   17.0    34.0   79.0\n",
      "\n",
      "[73257 rows x 8 columns]\n",
      "bounding box groupby name file: ./train/bbox_groupby_name.csv exists, read from file\n",
      "\n",
      "img_bbox_data groupby name:\n",
      "        img_name        labels  top  left  bottom  right  width  height  \\\n",
      "0          1.png       1.0_9.0   77   246     300    419    173     223   \n",
      "1         10.png       1.0_6.0    4    25      33     48     23      29   \n",
      "2        100.png  1.0_10.0_9.0    0    18      23     42     24      23   \n",
      "3       1000.png       1.0_3.0    1    17      19     27     10      18   \n",
      "4      10000.png   1.0_5.0_3.0   20    45      52     88     43      32   \n",
      "...          ...           ...  ...   ...     ...    ...    ...     ...   \n",
      "33397   9995.png       3.0_2.0    3    78      95    176     98      92   \n",
      "33398   9996.png       7.0_2.0   13    41      43     74     33      30   \n",
      "33399   9997.png       6.0_7.0    9    46      53     96     50      44   \n",
      "33400   9998.png       1.0_3.0    5    28      34     52     24      29   \n",
      "33401   9999.png       7.0_5.0   10    32      32     45     13      22   \n",
      "\n",
      "       num_digits  \n",
      "0               2  \n",
      "1               2  \n",
      "2               3  \n",
      "3               2  \n",
      "4               3  \n",
      "...           ...  \n",
      "33397           2  \n",
      "33398           2  \n",
      "33399           2  \n",
      "33400           2  \n",
      "33401           2  \n",
      "\n",
      "[33402 rows x 9 columns]\n",
      "\n",
      "img_bbox_data groupby name ===========END===========\n",
      "image data file: ./train/image_data.csv exists, read from file\n",
      "done constructing main dataframes...starting grouping\n"
     ]
    },
    {
     "ename": "TypeError",
     "evalue": "Can only merge Series or DataFrame objects, a <class 'NoneType'> was passed",
     "output_type": "error",
     "traceback": [
      "\u001b[0;31m---------------------------------------------------------------------------\u001b[0m",
      "\u001b[0;31mTypeError\u001b[0m                                 Traceback (most recent call last)",
      "\u001b[0;32m<ipython-input-20-a816995eb465>\u001b[0m in \u001b[0;36m<module>\u001b[0;34m\u001b[0m\n\u001b[0;32m----> 1\u001b[0;31m \u001b[0mconstruct_all_data\u001b[0m\u001b[0;34m(\u001b[0m\u001b[0mtrain_folder\u001b[0m\u001b[0;34m,\u001b[0m\u001b[0;34m'digitStruct.mat'\u001b[0m\u001b[0;34m,\u001b[0m \u001b[0;34m'train_data_processed.h5'\u001b[0m\u001b[0;34m)\u001b[0m\u001b[0;34m\u001b[0m\u001b[0;34m\u001b[0m\u001b[0m\n\u001b[0m\u001b[1;32m      2\u001b[0m \u001b[0;31m# construct_all_data(test_folder,'digitStruct.mat', 'test_data_processed.h5')\u001b[0m\u001b[0;34m\u001b[0m\u001b[0;34m\u001b[0m\u001b[0;34m\u001b[0m\u001b[0m\n\u001b[1;32m      3\u001b[0m \u001b[0;31m# construct_all_data(extra_folder,'digitStruct.mat', 'extra_data_processed.h5') #takes a long time\u001b[0m\u001b[0;34m\u001b[0m\u001b[0;34m\u001b[0m\u001b[0;34m\u001b[0m\u001b[0m\n",
      "\u001b[0;32m<ipython-input-18-85883f266216>\u001b[0m in \u001b[0;36mconstruct_all_data\u001b[0;34m(img_folder, mat_file_name, h5_name)\u001b[0m\n\u001b[1;32m     16\u001b[0m     \u001b[0mprint\u001b[0m\u001b[0;34m(\u001b[0m\u001b[0;34m'done constructing main dataframes...starting grouping'\u001b[0m\u001b[0;34m)\u001b[0m\u001b[0;34m\u001b[0m\u001b[0;34m\u001b[0m\u001b[0m\n\u001b[1;32m     17\u001b[0m \u001b[0;34m\u001b[0m\u001b[0m\n\u001b[0;32m---> 18\u001b[0;31m     \u001b[0mdf1\u001b[0m \u001b[0;34m=\u001b[0m \u001b[0mimg_bbox_data_grouped\u001b[0m\u001b[0;34m.\u001b[0m\u001b[0mmerge\u001b[0m\u001b[0;34m(\u001b[0m\u001b[0mimg_data\u001b[0m\u001b[0;34m,\u001b[0m \u001b[0mon\u001b[0m\u001b[0;34m=\u001b[0m\u001b[0;34m'img_name'\u001b[0m\u001b[0;34m,\u001b[0m \u001b[0mhow\u001b[0m\u001b[0;34m=\u001b[0m\u001b[0;34m'left'\u001b[0m\u001b[0;34m)\u001b[0m\u001b[0;34m\u001b[0m\u001b[0;34m\u001b[0m\u001b[0m\n\u001b[0m\u001b[1;32m     19\u001b[0m     \u001b[0mprint\u001b[0m\u001b[0;34m(\u001b[0m\u001b[0;34m'grouping done'\u001b[0m\u001b[0;34m)\u001b[0m\u001b[0;34m\u001b[0m\u001b[0;34m\u001b[0m\u001b[0m\n\u001b[1;32m     20\u001b[0m     \u001b[0;31m#df1.to_csv(os.path.join(img_folder, csv_name), index = False)\u001b[0m\u001b[0;34m\u001b[0m\u001b[0;34m\u001b[0m\u001b[0;34m\u001b[0m\u001b[0m\n",
      "\u001b[0;32m~/anaconda3/envs/NCTU_Adv_DNN_HW2/lib/python3.8/site-packages/pandas/core/frame.py\u001b[0m in \u001b[0;36mmerge\u001b[0;34m(self, right, how, on, left_on, right_on, left_index, right_index, sort, suffixes, copy, indicator, validate)\u001b[0m\n\u001b[1;32m   7944\u001b[0m         \u001b[0;32mfrom\u001b[0m \u001b[0mpandas\u001b[0m\u001b[0;34m.\u001b[0m\u001b[0mcore\u001b[0m\u001b[0;34m.\u001b[0m\u001b[0mreshape\u001b[0m\u001b[0;34m.\u001b[0m\u001b[0mmerge\u001b[0m \u001b[0;32mimport\u001b[0m \u001b[0mmerge\u001b[0m\u001b[0;34m\u001b[0m\u001b[0;34m\u001b[0m\u001b[0m\n\u001b[1;32m   7945\u001b[0m \u001b[0;34m\u001b[0m\u001b[0m\n\u001b[0;32m-> 7946\u001b[0;31m         return merge(\n\u001b[0m\u001b[1;32m   7947\u001b[0m             \u001b[0mself\u001b[0m\u001b[0;34m,\u001b[0m\u001b[0;34m\u001b[0m\u001b[0;34m\u001b[0m\u001b[0m\n\u001b[1;32m   7948\u001b[0m             \u001b[0mright\u001b[0m\u001b[0;34m,\u001b[0m\u001b[0;34m\u001b[0m\u001b[0;34m\u001b[0m\u001b[0m\n",
      "\u001b[0;32m~/anaconda3/envs/NCTU_Adv_DNN_HW2/lib/python3.8/site-packages/pandas/core/reshape/merge.py\u001b[0m in \u001b[0;36mmerge\u001b[0;34m(left, right, how, on, left_on, right_on, left_index, right_index, sort, suffixes, copy, indicator, validate)\u001b[0m\n\u001b[1;32m     72\u001b[0m     \u001b[0mvalidate\u001b[0m\u001b[0;34m=\u001b[0m\u001b[0;32mNone\u001b[0m\u001b[0;34m,\u001b[0m\u001b[0;34m\u001b[0m\u001b[0;34m\u001b[0m\u001b[0m\n\u001b[1;32m     73\u001b[0m ) -> \"DataFrame\":\n\u001b[0;32m---> 74\u001b[0;31m     op = _MergeOperation(\n\u001b[0m\u001b[1;32m     75\u001b[0m         \u001b[0mleft\u001b[0m\u001b[0;34m,\u001b[0m\u001b[0;34m\u001b[0m\u001b[0;34m\u001b[0m\u001b[0m\n\u001b[1;32m     76\u001b[0m         \u001b[0mright\u001b[0m\u001b[0;34m,\u001b[0m\u001b[0;34m\u001b[0m\u001b[0;34m\u001b[0m\u001b[0m\n",
      "\u001b[0;32m~/anaconda3/envs/NCTU_Adv_DNN_HW2/lib/python3.8/site-packages/pandas/core/reshape/merge.py\u001b[0m in \u001b[0;36m__init__\u001b[0;34m(self, left, right, how, on, left_on, right_on, axis, left_index, right_index, sort, suffixes, copy, indicator, validate)\u001b[0m\n\u001b[1;32m    592\u001b[0m     ):\n\u001b[1;32m    593\u001b[0m         \u001b[0m_left\u001b[0m \u001b[0;34m=\u001b[0m \u001b[0m_validate_operand\u001b[0m\u001b[0;34m(\u001b[0m\u001b[0mleft\u001b[0m\u001b[0;34m)\u001b[0m\u001b[0;34m\u001b[0m\u001b[0;34m\u001b[0m\u001b[0m\n\u001b[0;32m--> 594\u001b[0;31m         \u001b[0m_right\u001b[0m \u001b[0;34m=\u001b[0m \u001b[0m_validate_operand\u001b[0m\u001b[0;34m(\u001b[0m\u001b[0mright\u001b[0m\u001b[0;34m)\u001b[0m\u001b[0;34m\u001b[0m\u001b[0;34m\u001b[0m\u001b[0m\n\u001b[0m\u001b[1;32m    595\u001b[0m         \u001b[0mself\u001b[0m\u001b[0;34m.\u001b[0m\u001b[0mleft\u001b[0m \u001b[0;34m=\u001b[0m \u001b[0mself\u001b[0m\u001b[0;34m.\u001b[0m\u001b[0morig_left\u001b[0m \u001b[0;34m=\u001b[0m \u001b[0m_left\u001b[0m\u001b[0;34m\u001b[0m\u001b[0;34m\u001b[0m\u001b[0m\n\u001b[1;32m    596\u001b[0m         \u001b[0mself\u001b[0m\u001b[0;34m.\u001b[0m\u001b[0mright\u001b[0m \u001b[0;34m=\u001b[0m \u001b[0mself\u001b[0m\u001b[0;34m.\u001b[0m\u001b[0morig_right\u001b[0m \u001b[0;34m=\u001b[0m \u001b[0m_right\u001b[0m\u001b[0;34m\u001b[0m\u001b[0;34m\u001b[0m\u001b[0m\n",
      "\u001b[0;32m~/anaconda3/envs/NCTU_Adv_DNN_HW2/lib/python3.8/site-packages/pandas/core/reshape/merge.py\u001b[0m in \u001b[0;36m_validate_operand\u001b[0;34m(obj)\u001b[0m\n\u001b[1;32m   2059\u001b[0m             \u001b[0;32mreturn\u001b[0m \u001b[0mobj\u001b[0m\u001b[0;34m.\u001b[0m\u001b[0mto_frame\u001b[0m\u001b[0;34m(\u001b[0m\u001b[0;34m)\u001b[0m\u001b[0;34m\u001b[0m\u001b[0;34m\u001b[0m\u001b[0m\n\u001b[1;32m   2060\u001b[0m     \u001b[0;32melse\u001b[0m\u001b[0;34m:\u001b[0m\u001b[0;34m\u001b[0m\u001b[0;34m\u001b[0m\u001b[0m\n\u001b[0;32m-> 2061\u001b[0;31m         raise TypeError(\n\u001b[0m\u001b[1;32m   2062\u001b[0m             \u001b[0;34mf\"Can only merge Series or DataFrame objects, a {type(obj)} was passed\"\u001b[0m\u001b[0;34m\u001b[0m\u001b[0;34m\u001b[0m\u001b[0m\n\u001b[1;32m   2063\u001b[0m         )\n",
      "\u001b[0;31mTypeError\u001b[0m: Can only merge Series or DataFrame objects, a <class 'NoneType'> was passed"
     ]
    }
   ],
   "source": [
    "construct_all_data(train_folder,'digitStruct.mat', 'train_data_processed.h5')\n",
    "# construct_all_data(test_folder,'digitStruct.mat', 'test_data_processed.h5')\n",
    "# construct_all_data(extra_folder,'digitStruct.mat', 'extra_data_processed.h5') #takes a long time"
   ]
  },
  {
   "cell_type": "code",
   "execution_count": null,
   "metadata": {},
   "outputs": [],
   "source": []
  },
  {
   "cell_type": "code",
   "execution_count": null,
   "metadata": {},
   "outputs": [],
   "source": []
  },
  {
   "cell_type": "code",
   "execution_count": null,
   "metadata": {},
   "outputs": [],
   "source": []
  }
 ],
 "metadata": {
  "kernelspec": {
   "display_name": "Python 3",
   "language": "python",
   "name": "python3"
  },
  "language_info": {
   "codemirror_mode": {
    "name": "ipython",
    "version": 3
   },
   "file_extension": ".py",
   "mimetype": "text/x-python",
   "name": "python",
   "nbconvert_exporter": "python",
   "pygments_lexer": "ipython3",
   "version": "3.8.3"
  }
 },
 "nbformat": 4,
 "nbformat_minor": 4
}
