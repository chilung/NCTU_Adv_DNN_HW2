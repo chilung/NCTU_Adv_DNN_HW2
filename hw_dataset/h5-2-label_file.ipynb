{
 "cells": [
  {
   "cell_type": "code",
   "execution_count": 39,
   "metadata": {},
   "outputs": [],
   "source": [
    "import numpy as np\n",
    "import cv2\n",
    "import os\n",
    "import pandas as pd\n",
    "import h5py"
   ]
  },
  {
   "cell_type": "code",
   "execution_count": 40,
   "metadata": {},
   "outputs": [],
   "source": [
    "train_folder = \"./train\"\n",
    "test_folder = \"./test\"\n",
    "extra_folder = \"./extra\"\n",
    "resize_size = (64, 64)"
   ]
  },
  {
   "cell_type": "code",
   "execution_count": 41,
   "metadata": {},
   "outputs": [],
   "source": [
    "def collapse_col(row):\n",
    "    global resize_size\n",
    "    new_row = {}\n",
    "    new_row['img_name'] = list(row['img_name'])[0]\n",
    "    new_row['labels'] = row['label'].astype(np.str).str.cat(sep='_')\n",
    "    new_row['top'] = max(int(row['top'].min()), 0)\n",
    "    new_row['left'] = max(int(row['left'].min()), 0)\n",
    "    new_row['bottom'] = int(row['bottom'].max())\n",
    "    new_row['right'] = int(row['right'].max())\n",
    "    new_row['width'] = int(new_row['right'] - new_row['left'])\n",
    "    new_row['height'] = int(new_row['bottom'] - new_row['top'])\n",
    "    new_row['num_digits'] = len(row['label'].values)\n",
    "    return pd.Series(new_row, index=None)"
   ]
  },
  {
   "cell_type": "code",
   "execution_count": 42,
   "metadata": {},
   "outputs": [],
   "source": [
    "def get_name(index, hdf5_data):\n",
    "    name = hdf5_data['/digitStruct/name']\n",
    "    return ''.join([chr(v[0]) for v in hdf5_data[name[index][0]].value])"
   ]
  },
  {
   "cell_type": "code",
   "execution_count": 43,
   "metadata": {},
   "outputs": [],
   "source": [
    "def get_bbox(index, hdf5_data):\n",
    "    attrs = {}\n",
    "    item = hdf5_data['digitStruct']['bbox'][index].item()\n",
    "    for key in ['label', 'left', 'top', 'width', 'height']:\n",
    "        attr = hdf5_data[item][key]\n",
    "        values = [hdf5_data[attr.value[i].item()].value[0][0]\n",
    "                  for i in range(len(attr))] if len(attr) > 1 else [attr.value[0][0]]\n",
    "        attrs[key] = values\n",
    "    return attrs"
   ]
  },
  {
   "cell_type": "code",
   "execution_count": 44,
   "metadata": {},
   "outputs": [],
   "source": [
    "def getFilePathInfo(filepath):\n",
    "\n",
    "    dirname = os.path.dirname(filepath)\n",
    "    basename = os.path.basename(filepath)\n",
    "    info = os.path.splitext(basename)\n",
    "    filename = info[0]\n",
    "    extend = info[1]\n",
    " \n",
    "    return dirname, filename, extend"
   ]
  },
  {
   "cell_type": "code",
   "execution_count": 45,
   "metadata": {},
   "outputs": [],
   "source": [
    "def img_boundingbox_data_constructor(img_folder, mat_file):\n",
    "    mat_file = os.path.join(img_folder, mat_file)\n",
    "    info = getFilePathInfo(mat_file)\n",
    "    bbox_csv_filepath = os.path.join(info[0], 'bbox.csv')\n",
    "    print(bbox_csv_filepath)\n",
    "\n",
    "    if os.path.isfile(bbox_csv_filepath):\n",
    "        print(\"bounding box file: {} exists, read from file\".format(bbox_csv_filepath))\n",
    "        bbox_df = pd.read_csv(bbox_csv_filepath)\n",
    "        # print(bbox_df)\n",
    "        print('finished image bounding box data construction...')\n",
    "        return bbox_df\n",
    "\n",
    "    f = h5py.File(mat_file, 'r')\n",
    "    all_rows = []\n",
    "    print('image bounding box data construction starting...')\n",
    "    bbox_df = pd.DataFrame([], columns=['img_name', 'img_height', 'img_width', 'label',\n",
    "                                        'top', 'bottom', 'left', 'right', 'height', 'width',\n",
    "                                        'rel_x_center', 'rel_y_center', 'rel_height', 'rel_width'])\n",
    "\n",
    "    i = 0\n",
    "    for j in range(f['/digitStruct/bbox'].shape[0]):\n",
    "        img_name = get_name(j, f)\n",
    "        row_dict = get_bbox(j, f)\n",
    "        row_dict['img_name'] = img_name\n",
    "        img = cv2.imread(os.path.join(img_folder, img_name))\n",
    "        row_dict['img_height'], row_dict['img_width'], _ = img.shape\n",
    "        if (i % 1000) == 0:\n",
    "            print(row_dict)\n",
    "        all_rows.append(row_dict)\n",
    "        bbox_df = pd.concat([bbox_df, pd.DataFrame.from_dict(row_dict,orient = 'columns')])\n",
    "        # if j > 20:\n",
    "        #     break\n",
    "        i += 1\n",
    "\n",
    "    bbox_df['bottom'] = bbox_df['top'] + bbox_df['height']\n",
    "    bbox_df['right'] = bbox_df['left'] + bbox_df['width']\n",
    "    bbox_df['rel_x_center'] = (bbox_df['left'] + bbox_df['right']) / 2 / bbox_df['img_width']\n",
    "    bbox_df['rel_y_center'] = (bbox_df['top'] + bbox_df['bottom']) / 2 / bbox_df['img_height']\n",
    "    bbox_df['rel_height'] = bbox_df['height'] / bbox_df['img_height']\n",
    "    bbox_df['rel_width'] = bbox_df['width'] / bbox_df['img_width']\n",
    "\n",
    "    bbox_df.to_csv(bbox_csv_filepath, index = False)\n",
    "    print(bbox_df)\n",
    "    \n",
    "    print('finished image bounding box data construction...')\n",
    "    return bbox_df"
   ]
  },
  {
   "cell_type": "code",
   "execution_count": null,
   "metadata": {},
   "outputs": [],
   "source": [
    "def output_yolov4_label_txt(img_folder, img_name, output_line):\n",
    "    label_name = os.path.basename(img_name) + '.txt'\n",
    "    f = open(os.path.join(img_folder, label_name),'a+')\n",
    "    f.writelines(output_line)\n",
    "    f.close()  "
   ]
  },
  {
   "cell_type": "code",
   "execution_count": 46,
   "metadata": {},
   "outputs": [],
   "source": [
    "def construct_all_data(img_folder, mat_file_name, h5_name):\n",
    "    img_bbox_data = img_boundingbox_data_constructor(img_folder, mat_file_name)\n",
    "    print(\"\\nimg_bbox_data:\\n{}\".format(img_bbox_data))\n",
    "    \n",
    "    img_bbox_data_list = img_bbox_data.values.tolist()\n",
    "    for row in img_bbox_data_list[0:10]:\n",
    "        print(row)\n"
   ]
  },
  {
   "cell_type": "code",
   "execution_count": 47,
   "metadata": {},
   "outputs": [
    {
     "name": "stdout",
     "output_type": "stream",
     "text": [
      "./train/bbox.csv\n",
      "image bounding box data construction starting...\n",
      "{'label': [1.0, 9.0], 'left': [246.0, 323.0], 'top': [77.0, 81.0], 'width': [81.0, 96.0], 'height': [219.0, 219.0], 'img_name': '1.png', 'img_height': 350, 'img_width': 741}\n"
     ]
    },
    {
     "name": "stderr",
     "output_type": "stream",
     "text": [
      "<ipython-input-42-f68001855196>:3: H5pyDeprecationWarning: dataset.value has been deprecated. Use dataset[()] instead.\n",
      "  return ''.join([chr(v[0]) for v in hdf5_data[name[index][0]].value])\n",
      "<ipython-input-43-122470932d59>:6: H5pyDeprecationWarning: dataset.value has been deprecated. Use dataset[()] instead.\n",
      "  values = [hdf5_data[attr.value[i].item()].value[0][0]\n",
      "<ipython-input-43-122470932d59>:7: H5pyDeprecationWarning: dataset.value has been deprecated. Use dataset[()] instead.\n",
      "  for i in range(len(attr))] if len(attr) > 1 else [attr.value[0][0]]\n"
     ]
    },
    {
     "name": "stdout",
     "output_type": "stream",
     "text": [
      "{'label': [6.0], 'left': [36.0], 'top': [4.0], 'width': [14.0], 'height': [31.0], 'img_name': '1001.png', 'img_height': 42, 'img_width': 89}\n",
      "{'label': [3.0], 'left': [37.0], 'top': [5.0], 'width': [14.0], 'height': [34.0], 'img_name': '2001.png', 'img_height': 47, 'img_width': 86}\n",
      "{'label': [3.0, 9.0], 'left': [66.0, 90.0], 'top': [13.0, 14.0], 'width': [28.0, 31.0], 'height': [72.0, 72.0], 'img_name': '3001.png', 'img_height': 95, 'img_width': 186}\n",
      "{'label': [6.0, 1.0], 'left': [23.0, 38.0], 'top': [3.0, 4.0], 'width': [14.0, 7.0], 'height': [25.0, 25.0], 'img_name': '4001.png', 'img_height': 33, 'img_width': 72}\n",
      "{'label': [3.0, 4.0, 7.0], 'left': [65.0, 78.0, 87.0], 'top': [32.0, 32.0, 27.0], 'width': [16.0, 12.0, 14.0], 'height': [30.0, 30.0, 30.0], 'img_name': '5001.png', 'img_height': 78, 'img_width': 166}\n",
      "{'label': [5.0, 6.0], 'left': [56.0, 74.0], 'top': [21.0, 21.0], 'width': [19.0, 17.0], 'height': [39.0, 39.0], 'img_name': '6001.png', 'img_height': 76, 'img_width': 158}\n",
      "{'label': [6.0, 10.0], 'left': [39.0, 63.0], 'top': [1.0, 6.0], 'width': [23.0, 25.0], 'height': [43.0, 43.0], 'img_name': '7001.png', 'img_height': 54, 'img_width': 123}\n",
      "{'label': [3.0], 'left': [63.0], 'top': [13.0], 'width': [41.0], 'height': [62.0], 'img_name': '8001.png', 'img_height': 88, 'img_width': 169}\n",
      "{'label': [8.0, 10.0], 'left': [26.0, 42.0], 'top': [7.0, 7.0], 'width': [15.0, 12.0], 'height': [25.0, 25.0], 'img_name': '9001.png', 'img_height': 40, 'img_width': 83}\n",
      "{'label': [4.0, 1.0], 'left': [27.0, 33.0], 'top': [5.0, 4.0], 'width': [6.0, 6.0], 'height': [20.0, 20.0], 'img_name': '10001.png', 'img_height': 33, 'img_width': 66}\n",
      "{'label': [10.0, 9.0], 'left': [102.0, 129.0], 'top': [23.0, 23.0], 'width': [30.0, 33.0], 'height': [66.0, 66.0], 'img_name': '11001.png', 'img_height': 108, 'img_width': 241}\n",
      "{'label': [1.0, 10.0], 'left': [19.0, 23.0], 'top': [4.0, 3.0], 'width': [5.0, 10.0], 'height': [15.0, 15.0], 'img_name': '12001.png', 'img_height': 24, 'img_width': 58}\n",
      "{'label': [4.0, 10.0, 2.0], 'left': [23.0, 34.0, 44.0], 'top': [1.0, 1.0, 1.0], 'width': [10.0, 11.0, 13.0], 'height': [27.0, 27.0, 27.0], 'img_name': '13001.png', 'img_height': 31, 'img_width': 80}\n",
      "{'label': [6.0], 'left': [37.0], 'top': [3.0], 'width': [30.0], 'height': [51.0], 'img_name': '14001.png', 'img_height': 57, 'img_width': 101}\n",
      "{'label': [4.0, 6.0, 5.0], 'left': [89.0, 110.0, 132.0], 'top': [44.0, 35.0, 16.0], 'width': [23.0, 28.0, 38.0], 'height': [40.0, 40.0, 40.0], 'img_name': '15001.png', 'img_height': 104, 'img_width': 250}\n",
      "{'label': [1.0, 5.0], 'left': [219.0, 283.0], 'top': [50.0, 33.0], 'width': [69.0, 87.0], 'height': [218.0, 218.0], 'img_name': '16001.png', 'img_height': 321, 'img_width': 657}\n",
      "{'label': [7.0], 'left': [20.0], 'top': [4.0], 'width': [10.0], 'height': [15.0], 'img_name': '17001.png', 'img_height': 24, 'img_width': 48}\n",
      "{'label': [2.0, 7.0, 3.0], 'left': [36.0, 45.0, 51.0], 'top': [8.0, 9.0, 10.0], 'width': [11.0, 8.0, 12.0], 'height': [19.0, 19.0, 19.0], 'img_name': '18001.png', 'img_height': 37, 'img_width': 96}\n",
      "{'label': [9.0], 'left': [52.0], 'top': [9.0], 'width': [32.0], 'height': [51.0], 'img_name': '19001.png', 'img_height': 68, 'img_width': 129}\n",
      "{'label': [1.0, 3.0, 6.0], 'left': [172.0, 185.0, 208.0], 'top': [108.0, 105.0, 98.0], 'width': [18.0, 26.0, 24.0], 'height': [58.0, 58.0, 58.0], 'img_name': '20001.png', 'img_height': 208, 'img_width': 393}\n",
      "{'label': [5.0, 10.0], 'left': [17.0, 27.0], 'top': [4.0, 2.0], 'width': [8.0, 10.0], 'height': [19.0, 19.0], 'img_name': '21001.png', 'img_height': 26, 'img_width': 55}\n",
      "{'label': [2.0, 4.0], 'left': [30.0, 44.0], 'top': [8.0, 5.0], 'width': [13.0, 16.0], 'height': [22.0, 22.0], 'img_name': '22001.png', 'img_height': 34, 'img_width': 86}\n",
      "{'label': [3.0, 9.0, 10.0, 2.0], 'left': [60.0, 81.0, 103.0, 120.0], 'top': [22.0, 23.0, 20.0, 22.0], 'width': [23.0, 24.0, 23.0, 24.0], 'height': [35.0, 35.0, 35.0, 35.0], 'img_name': '23001.png', 'img_height': 76, 'img_width': 210}\n",
      "{'label': [2.0, 9.0, 1.0], 'left': [53.0, 73.0, 86.0], 'top': [14.0, 19.0, 22.0], 'width': [19.0, 15.0, 12.0], 'height': [34.0, 34.0, 34.0], 'img_name': '24001.png', 'img_height': 69, 'img_width': 152}\n",
      "{'label': [7.0, 6.0, 8.0], 'left': [68.0, 101.0, 126.0], 'top': [9.0, 5.0, 9.0], 'width': [28.0, 24.0, 26.0], 'height': [75.0, 75.0, 75.0], 'img_name': '25001.png', 'img_height': 86, 'img_width': 226}\n",
      "{'label': [7.0, 10.0], 'left': [21.0, 28.0], 'top': [1.0, 1.0], 'width': [9.0, 12.0], 'height': [25.0, 25.0], 'img_name': '26001.png', 'img_height': 28, 'img_width': 61}\n",
      "{'label': [8.0], 'left': [33.0], 'top': [12.0], 'width': [16.0], 'height': [33.0], 'img_name': '27001.png', 'img_height': 51, 'img_width': 92}\n",
      "{'label': [9.0, 6.0], 'left': [17.0, 23.0], 'top': [3.0, 2.0], 'width': [6.0, 7.0], 'height': [12.0, 12.0], 'img_name': '28001.png', 'img_height': 19, 'img_width': 45}\n",
      "{'label': [2.0, 4.0, 6.0], 'left': [12.0, 21.0, 28.0], 'top': [1.0, 1.0, 1.0], 'width': [9.0, 6.0, 7.0], 'height': [15.0, 15.0, 15.0], 'img_name': '29001.png', 'img_height': 18, 'img_width': 48}\n",
      "{'label': [2.0, 7.0, 8.0], 'left': [26.0, 34.0, 43.0], 'top': [5.0, 6.0, 5.0], 'width': [8.0, 8.0, 8.0], 'height': [22.0, 22.0, 22.0], 'img_name': '30001.png', 'img_height': 33, 'img_width': 78}\n",
      "{'label': [6.0, 9.0], 'left': [21.0, 31.0], 'top': [3.0, 3.0], 'width': [10.0, 10.0], 'height': [19.0, 19.0], 'img_name': '31001.png', 'img_height': 26, 'img_width': 63}\n",
      "{'label': [1.0, 10.0], 'left': [34.0, 45.0], 'top': [9.0, 10.0], 'width': [10.0, 9.0], 'height': [21.0, 21.0], 'img_name': '32001.png', 'img_height': 41, 'img_width': 88}\n",
      "{'label': [3.0], 'left': [14.0], 'top': [2.0], 'width': [7.0], 'height': [13.0], 'img_name': '33001.png', 'img_height': 18, 'img_width': 35}\n",
      "     img_name img_height img_width  label   top  bottom   left  right  height  \\\n",
      "0       1.png        350       741    1.0  77.0   296.0  246.0  327.0   219.0   \n",
      "1       1.png        350       741    9.0  81.0   300.0  323.0  419.0   219.0   \n",
      "0       2.png         83       199    2.0  29.0    61.0   77.0  100.0    32.0   \n",
      "1       2.png         83       199    3.0  25.0    57.0   98.0  124.0    32.0   \n",
      "0       3.png         23        52    2.0   5.0    20.0   17.0   25.0    15.0   \n",
      "..        ...        ...       ...    ...   ...     ...    ...    ...     ...   \n",
      "0   33401.png         51       120    2.0   6.0    46.0   34.0   59.0    40.0   \n",
      "1   33401.png         51       120    2.0   4.0    44.0   61.0   86.0    40.0   \n",
      "0   33402.png         41       113    1.0  10.0    35.0   35.0   42.0    25.0   \n",
      "1   33402.png         41       113    6.0   8.0    33.0   44.0   59.0    25.0   \n",
      "2   33402.png         41       113    9.0   9.0    34.0   62.0   79.0    25.0   \n",
      "\n",
      "    width rel_x_center rel_y_center rel_height  rel_width  \n",
      "0    81.0      0.38664     0.532857   0.625714   0.109312  \n",
      "1    96.0     0.500675     0.544286   0.625714   0.129555  \n",
      "0    23.0     0.444724     0.542169   0.385542   0.115578  \n",
      "1    26.0     0.557789     0.493976   0.385542   0.130653  \n",
      "0     8.0     0.403846     0.543478   0.652174   0.153846  \n",
      "..    ...          ...          ...        ...        ...  \n",
      "0    25.0       0.3875     0.509804   0.784314   0.208333  \n",
      "1    25.0       0.6125     0.470588   0.784314   0.208333  \n",
      "0     7.0     0.340708      0.54878   0.609756  0.0619469  \n",
      "1    15.0     0.455752          0.5   0.609756   0.132743  \n",
      "2    17.0     0.623894      0.52439   0.609756   0.150442  \n",
      "\n",
      "[73257 rows x 14 columns]\n",
      "finished image bounding box data construction...\n",
      "\n",
      "img_bbox_data:\n",
      "     img_name img_height img_width  label   top  bottom   left  right  height  \\\n",
      "0       1.png        350       741    1.0  77.0   296.0  246.0  327.0   219.0   \n",
      "1       1.png        350       741    9.0  81.0   300.0  323.0  419.0   219.0   \n",
      "0       2.png         83       199    2.0  29.0    61.0   77.0  100.0    32.0   \n",
      "1       2.png         83       199    3.0  25.0    57.0   98.0  124.0    32.0   \n",
      "0       3.png         23        52    2.0   5.0    20.0   17.0   25.0    15.0   \n",
      "..        ...        ...       ...    ...   ...     ...    ...    ...     ...   \n",
      "0   33401.png         51       120    2.0   6.0    46.0   34.0   59.0    40.0   \n",
      "1   33401.png         51       120    2.0   4.0    44.0   61.0   86.0    40.0   \n",
      "0   33402.png         41       113    1.0  10.0    35.0   35.0   42.0    25.0   \n",
      "1   33402.png         41       113    6.0   8.0    33.0   44.0   59.0    25.0   \n",
      "2   33402.png         41       113    9.0   9.0    34.0   62.0   79.0    25.0   \n",
      "\n",
      "    width rel_x_center rel_y_center rel_height  rel_width  \n",
      "0    81.0      0.38664     0.532857   0.625714   0.109312  \n",
      "1    96.0     0.500675     0.544286   0.625714   0.129555  \n",
      "0    23.0     0.444724     0.542169   0.385542   0.115578  \n",
      "1    26.0     0.557789     0.493976   0.385542   0.130653  \n",
      "0     8.0     0.403846     0.543478   0.652174   0.153846  \n",
      "..    ...          ...          ...        ...        ...  \n",
      "0    25.0       0.3875     0.509804   0.784314   0.208333  \n",
      "1    25.0       0.6125     0.470588   0.784314   0.208333  \n",
      "0     7.0     0.340708      0.54878   0.609756  0.0619469  \n",
      "1    15.0     0.455752          0.5   0.609756   0.132743  \n",
      "2    17.0     0.623894      0.52439   0.609756   0.150442  \n",
      "\n",
      "[73257 rows x 14 columns]\n",
      "['1.png', 350, 741, 1.0, 77.0, 296.0, 246.0, 327.0, 219.0, 81.0, 0.3866396761133603, 0.5328571428571428, 0.6257142857142857, 0.10931174089068826]\n",
      "['1.png', 350, 741, 9.0, 81.0, 300.0, 323.0, 419.0, 219.0, 96.0, 0.5006747638326585, 0.5442857142857143, 0.6257142857142857, 0.12955465587044535]\n",
      "['2.png', 83, 199, 2.0, 29.0, 61.0, 77.0, 100.0, 32.0, 23.0, 0.44472361809045224, 0.5421686746987951, 0.3855421686746988, 0.11557788944723618]\n",
      "['2.png', 83, 199, 3.0, 25.0, 57.0, 98.0, 124.0, 32.0, 26.0, 0.5577889447236181, 0.4939759036144578, 0.3855421686746988, 0.1306532663316583]\n",
      "['3.png', 23, 52, 2.0, 5.0, 20.0, 17.0, 25.0, 15.0, 8.0, 0.40384615384615385, 0.5434782608695652, 0.6521739130434783, 0.15384615384615385]\n",
      "['3.png', 23, 52, 5.0, 5.0, 20.0, 25.0, 34.0, 15.0, 9.0, 0.5673076923076923, 0.5434782608695652, 0.6521739130434783, 0.17307692307692307]\n",
      "['4.png', 79, 161, 9.0, 13.0, 47.0, 57.0, 72.0, 34.0, 15.0, 0.40062111801242234, 0.379746835443038, 0.43037974683544306, 0.09316770186335403]\n",
      "['4.png', 79, 161, 3.0, 13.0, 47.0, 72.0, 85.0, 34.0, 13.0, 0.48757763975155277, 0.379746835443038, 0.43037974683544306, 0.08074534161490683]\n",
      "['5.png', 68, 140, 3.0, 7.0, 53.0, 52.0, 73.0, 46.0, 21.0, 0.44642857142857145, 0.4411764705882353, 0.6764705882352942, 0.15]\n",
      "['5.png', 68, 140, 1.0, 10.0, 56.0, 74.0, 89.0, 46.0, 15.0, 0.5821428571428572, 0.4852941176470588, 0.6764705882352942, 0.10714285714285714]\n"
     ]
    }
   ],
   "source": [
    "construct_all_data(train_folder, 'digitStruct.mat', 'train_data_processed.h5')"
   ]
  },
  {
   "cell_type": "code",
   "execution_count": null,
   "metadata": {},
   "outputs": [],
   "source": []
  },
  {
   "cell_type": "code",
   "execution_count": null,
   "metadata": {},
   "outputs": [],
   "source": []
  },
  {
   "cell_type": "code",
   "execution_count": null,
   "metadata": {},
   "outputs": [],
   "source": []
  }
 ],
 "metadata": {
  "kernelspec": {
   "display_name": "Python 3",
   "language": "python",
   "name": "python3"
  },
  "language_info": {
   "codemirror_mode": {
    "name": "ipython",
    "version": 3
   },
   "file_extension": ".py",
   "mimetype": "text/x-python",
   "name": "python",
   "nbconvert_exporter": "python",
   "pygments_lexer": "ipython3",
   "version": "3.8.3"
  }
 },
 "nbformat": 4,
 "nbformat_minor": 4
}
