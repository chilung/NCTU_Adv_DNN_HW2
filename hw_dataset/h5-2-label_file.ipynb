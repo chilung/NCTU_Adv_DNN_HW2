{
 "cells": [
  {
   "cell_type": "code",
   "execution_count": 3,
   "metadata": {},
   "outputs": [],
   "source": [
    "import numpy as np\n",
    "import cv2\n",
    "import os\n",
    "import pandas as pd\n",
    "import h5py"
   ]
  },
  {
   "cell_type": "code",
   "execution_count": 4,
   "metadata": {},
   "outputs": [],
   "source": [
    "train_folder = \"./train\"\n",
    "test_folder = \"./test\"\n",
    "extra_folder = \"./extra\"\n",
    "resize_size = (64, 64)"
   ]
  },
  {
   "cell_type": "code",
   "execution_count": 5,
   "metadata": {},
   "outputs": [],
   "source": [
    "def collapse_col(row):\n",
    "    global resize_size\n",
    "    new_row = {}\n",
    "    new_row['img_name'] = list(row['img_name'])[0]\n",
    "    new_row['labels'] = row['label'].astype(np.str).str.cat(sep='_')\n",
    "    new_row['top'] = max(int(row['top'].min()), 0)\n",
    "    new_row['left'] = max(int(row['left'].min()), 0)\n",
    "    new_row['bottom'] = int(row['bottom'].max())\n",
    "    new_row['right'] = int(row['right'].max())\n",
    "    new_row['width'] = int(new_row['right'] - new_row['left'])\n",
    "    new_row['height'] = int(new_row['bottom'] - new_row['top'])\n",
    "    new_row['num_digits'] = len(row['label'].values)\n",
    "    return pd.Series(new_row, index=None)"
   ]
  },
  {
   "cell_type": "code",
   "execution_count": 6,
   "metadata": {},
   "outputs": [],
   "source": [
    "def get_name(index, hdf5_data):\n",
    "    name = hdf5_data['/digitStruct/name']\n",
    "    return ''.join([chr(v[0]) for v in hdf5_data[name[index][0]].value])"
   ]
  },
  {
   "cell_type": "code",
   "execution_count": 7,
   "metadata": {},
   "outputs": [],
   "source": [
    "def get_bbox(index, hdf5_data):\n",
    "    attrs = {}\n",
    "    item = hdf5_data['digitStruct']['bbox'][index].item()\n",
    "    for key in ['label', 'left', 'top', 'width', 'height']:\n",
    "        attr = hdf5_data[item][key]\n",
    "        values = [hdf5_data[attr.value[i].item()].value[0][0]\n",
    "                  for i in range(len(attr))] if len(attr) > 1 else [attr.value[0][0]]\n",
    "        attrs[key] = values\n",
    "    return attrs"
   ]
  },
  {
   "cell_type": "code",
   "execution_count": 8,
   "metadata": {},
   "outputs": [],
   "source": [
    "def getFilePathInfo(filepath):\n",
    "\n",
    "    dirname = os.path.dirname(filepath)\n",
    "    basename = os.path.basename(filepath)\n",
    "    info = os.path.splitext(basename)\n",
    "    filename = info[0]\n",
    "    extend = info[1]\n",
    " \n",
    "    return dirname, filename, extend"
   ]
  },
  {
   "cell_type": "code",
   "execution_count": 9,
   "metadata": {},
   "outputs": [],
   "source": [
    "def img_boundingbox_data_constructor(mat_file):\n",
    "    info = getFilePathInfo(mat_file)\n",
    "    bbox_csv_filepath = os.path.join(info[0], 'bbox.csv')\n",
    "    print(bbox_csv_filepath)\n",
    "\n",
    "    if os.path.isfile(bbox_csv_filepath):\n",
    "        print(\"bounding box file: {} exists, read from file\".format(bbox_csv_filepath))\n",
    "        bbox_df = pd.read_csv(bbox_csv_filepath)\n",
    "        # print(bbox_df)\n",
    "        print('finished image bounding box data construction...')\n",
    "        return bbox_df\n",
    "\n",
    "    f = h5py.File(mat_file, 'r')\n",
    "    all_rows = []\n",
    "    print('image bounding box data construction starting...')\n",
    "    bbox_df = pd.DataFrame([], columns=['height', 'img_name', 'label', 'left', 'top', 'width'])\n",
    "\n",
    "    i = 0\n",
    "    for j in range(f['/digitStruct/bbox'].shape[0]):\n",
    "        img_name = get_name(j, f)\n",
    "        row_dict = get_bbox(j, f)\n",
    "        row_dict['img_name'] = img_name\n",
    "        if (i % 1000) == 0:\n",
    "            print(row_dict)\n",
    "        all_rows.append(row_dict)\n",
    "        bbox_df = pd.concat([bbox_df, pd.DataFrame.from_dict(row_dict,orient = 'columns')])\n",
    "        # if j > 20:\n",
    "        #     break\n",
    "        i += 1\n",
    "\n",
    "    bbox_df['bottom'] = bbox_df['top']+bbox_df['height']\n",
    "    bbox_df['right'] = bbox_df['left']+bbox_df['width']\n",
    "    bbox_df.to_csv(bbox_csv_filepath, index = False)\n",
    "    print(bbox_df)\n",
    "    \n",
    "    print('finished image bounding box data construction...')\n",
    "    return bbox_df"
   ]
  },
  {
   "cell_type": "code",
   "execution_count": 14,
   "metadata": {},
   "outputs": [],
   "source": [
    "def construct_all_data(img_folder, mat_file_name, h5_name):\n",
    "    img_bbox_data = img_boundingbox_data_constructor(os.path.join(img_folder, mat_file_name))\n",
    "    print(\"\\nimg_bbox_data:\\n{}\".format(img_bbox_data))\n",
    "    \n",
    "    img_bbox_data_list = img_bbox_data.values.tolist()\n",
    "    for row in img_bbox_data_list[0:10]:\n",
    "        print(row)\n"
   ]
  },
  {
   "cell_type": "code",
   "execution_count": 15,
   "metadata": {},
   "outputs": [
    {
     "name": "stdout",
     "output_type": "stream",
     "text": [
      "./train/bbox.csv\n",
      "bounding box file: ./train/bbox.csv exists, read from file\n",
      "finished image bounding box data construction...\n",
      "\n",
      "img_bbox_data:\n",
      "       height   img_name  label   left   top  width  bottom  right\n",
      "0       219.0      1.png    1.0  246.0  77.0   81.0   296.0  327.0\n",
      "1       219.0      1.png    9.0  323.0  81.0   96.0   300.0  419.0\n",
      "2        32.0      2.png    2.0   77.0  29.0   23.0    61.0  100.0\n",
      "3        32.0      2.png    3.0   98.0  25.0   26.0    57.0  124.0\n",
      "4        15.0      3.png    2.0   17.0   5.0    8.0    20.0   25.0\n",
      "...       ...        ...    ...    ...   ...    ...     ...    ...\n",
      "73252    40.0  33401.png    2.0   34.0   6.0   25.0    46.0   59.0\n",
      "73253    40.0  33401.png    2.0   61.0   4.0   25.0    44.0   86.0\n",
      "73254    25.0  33402.png    1.0   35.0  10.0    7.0    35.0   42.0\n",
      "73255    25.0  33402.png    6.0   44.0   8.0   15.0    33.0   59.0\n",
      "73256    25.0  33402.png    9.0   62.0   9.0   17.0    34.0   79.0\n",
      "\n",
      "[73257 rows x 8 columns]\n",
      "[219.0, '1.png', 1.0, 246.0, 77.0, 81.0, 296.0, 327.0]\n",
      "[219.0, '1.png', 9.0, 323.0, 81.0, 96.0, 300.0, 419.0]\n",
      "[32.0, '2.png', 2.0, 77.0, 29.0, 23.0, 61.0, 100.0]\n",
      "[32.0, '2.png', 3.0, 98.0, 25.0, 26.0, 57.0, 124.0]\n",
      "[15.0, '3.png', 2.0, 17.0, 5.0, 8.0, 20.0, 25.0]\n",
      "[15.0, '3.png', 5.0, 25.0, 5.0, 9.0, 20.0, 34.0]\n",
      "[34.0, '4.png', 9.0, 57.0, 13.0, 15.0, 47.0, 72.0]\n",
      "[34.0, '4.png', 3.0, 72.0, 13.0, 13.0, 47.0, 85.0]\n",
      "[46.0, '5.png', 3.0, 52.0, 7.0, 21.0, 53.0, 73.0]\n",
      "[46.0, '5.png', 1.0, 74.0, 10.0, 15.0, 56.0, 89.0]\n"
     ]
    }
   ],
   "source": [
    "construct_all_data(train_folder,'digitStruct.mat', 'train_data_processed.h5')"
   ]
  },
  {
   "cell_type": "code",
   "execution_count": null,
   "metadata": {},
   "outputs": [],
   "source": []
  },
  {
   "cell_type": "code",
   "execution_count": null,
   "metadata": {},
   "outputs": [],
   "source": []
  },
  {
   "cell_type": "code",
   "execution_count": null,
   "metadata": {},
   "outputs": [],
   "source": []
  }
 ],
 "metadata": {
  "kernelspec": {
   "display_name": "Python 3",
   "language": "python",
   "name": "python3"
  },
  "language_info": {
   "codemirror_mode": {
    "name": "ipython",
    "version": 3
   },
   "file_extension": ".py",
   "mimetype": "text/x-python",
   "name": "python",
   "nbconvert_exporter": "python",
   "pygments_lexer": "ipython3",
   "version": "3.8.3"
  }
 },
 "nbformat": 4,
 "nbformat_minor": 4
}
