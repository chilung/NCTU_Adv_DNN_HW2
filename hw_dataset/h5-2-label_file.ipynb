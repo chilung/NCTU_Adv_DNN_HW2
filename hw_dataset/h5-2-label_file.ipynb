{
 "cells": [
  {
   "cell_type": "code",
   "execution_count": 33,
   "metadata": {},
   "outputs": [],
   "source": [
    "import numpy as np\n",
    "import cv2\n",
    "import os\n",
    "import pandas as pd\n",
    "import h5py"
   ]
  },
  {
   "cell_type": "code",
   "execution_count": 3,
   "metadata": {},
   "outputs": [],
   "source": [
    "train_folder = \"./train\"\n",
    "test_folder = \"./test\"\n",
    "extra_folder = \"./extra\"\n",
    "resize_size = (64, 64)"
   ]
  },
  {
   "cell_type": "code",
   "execution_count": 4,
   "metadata": {},
   "outputs": [],
   "source": [
    "def collapse_col(row):\n",
    "    global resize_size\n",
    "    new_row = {}\n",
    "    new_row['img_name'] = list(row['img_name'])[0]\n",
    "    new_row['labels'] = row['label'].astype(np.str).str.cat(sep='_')\n",
    "    new_row['top'] = max(int(row['top'].min()), 0)\n",
    "    new_row['left'] = max(int(row['left'].min()), 0)\n",
    "    new_row['bottom'] = int(row['bottom'].max())\n",
    "    new_row['right'] = int(row['right'].max())\n",
    "    new_row['width'] = int(new_row['right'] - new_row['left'])\n",
    "    new_row['height'] = int(new_row['bottom'] - new_row['top'])\n",
    "    new_row['num_digits'] = len(row['label'].values)\n",
    "    return pd.Series(new_row, index=None)"
   ]
  },
  {
   "cell_type": "code",
   "execution_count": 5,
   "metadata": {},
   "outputs": [],
   "source": [
    "def get_name(index, hdf5_data):\n",
    "    name = hdf5_data['/digitStruct/name']\n",
    "    return ''.join([chr(v[0]) for v in hdf5_data[name[index][0]].value])"
   ]
  },
  {
   "cell_type": "code",
   "execution_count": 6,
   "metadata": {},
   "outputs": [],
   "source": [
    "def get_bbox(index, hdf5_data):\n",
    "    attrs = {}\n",
    "    item = hdf5_data['digitStruct']['bbox'][index].item()\n",
    "    for key in ['label', 'left', 'top', 'width', 'height']:\n",
    "        attr = hdf5_data[item][key]\n",
    "        values = [hdf5_data[attr.value[i].item()].value[0][0]\n",
    "                  for i in range(len(attr))] if len(attr) > 1 else [attr.value[0][0]]\n",
    "        attrs[key] = values\n",
    "    return attrs"
   ]
  },
  {
   "cell_type": "code",
   "execution_count": 7,
   "metadata": {},
   "outputs": [],
   "source": [
    "def getFilePathInfo(filepath):\n",
    "\n",
    "    dirname = os.path.dirname(filepath)\n",
    "    basename = os.path.basename(filepath)\n",
    "    info = os.path.splitext(basename)\n",
    "    filename = info[0]\n",
    "    extend = info[1]\n",
    "\n",
    "    return dirname, filename, extend"
   ]
  },
  {
   "cell_type": "code",
   "execution_count": 8,
   "metadata": {},
   "outputs": [],
   "source": [
    "def img_boundingbox_data_constructor(img_folder, mat_file):\n",
    "    mat_file = os.path.join(img_folder, mat_file)\n",
    "    info = getFilePathInfo(mat_file)\n",
    "    bbox_csv_filepath = os.path.join(info[0], 'bbox.csv')\n",
    "    print(bbox_csv_filepath)\n",
    "\n",
    "    if os.path.isfile(bbox_csv_filepath):\n",
    "        print(\"bounding box file: {} exists, read from file\".format(bbox_csv_filepath))\n",
    "        bbox_df = pd.read_csv(bbox_csv_filepath)\n",
    "        # print(bbox_df)\n",
    "        print('finished image bounding box data construction...')\n",
    "        return bbox_df\n",
    "\n",
    "    f = h5py.File(mat_file, 'r')\n",
    "    all_rows = []\n",
    "    print('image bounding box data construction starting...')\n",
    "    bbox_df = pd.DataFrame([], columns=['img_name', 'img_width', 'img_height',\n",
    "                                        'label',\n",
    "                                        'top', 'bottom', 'left', 'right', 'width', 'height',\n",
    "                                        'rel_x_center', 'rel_y_center', 'rel_width', 'rel_height'])\n",
    "\n",
    "    i = 0\n",
    "    for j in range(f['/digitStruct/bbox'].shape[0]):\n",
    "        img_name = get_name(j, f)\n",
    "        row_dict = get_bbox(j, f)\n",
    "        row_dict['img_name'] = img_name\n",
    "        img = cv2.imread(os.path.join(img_folder, img_name))\n",
    "        row_dict['img_height'], row_dict['img_width'], _ = img.shape\n",
    "        # map class id 10 to class id 0 for digit 0\n",
    "        row_dict['label'] = [int(l)%10 for l in row_dict['label']]\n",
    "        if (i % 1000) == 0:\n",
    "            print(row_dict)\n",
    "        all_rows.append(row_dict)\n",
    "        bbox_df = pd.concat([bbox_df, pd.DataFrame.from_dict(row_dict, orient='columns')])\n",
    "        # if j > 20:\n",
    "        #     break\n",
    "        i += 1\n",
    "\n",
    "    bbox_df['bottom'] = bbox_df['top'] + bbox_df['height']\n",
    "    bbox_df['right'] = bbox_df['left'] + bbox_df['width']\n",
    "    bbox_df['rel_x_center'] = (bbox_df['left'] + bbox_df['right']) / 2 / bbox_df['img_width']\n",
    "    bbox_df['rel_y_center'] = (bbox_df['top'] + bbox_df['bottom']) / 2 / bbox_df['img_height']\n",
    "    bbox_df['rel_width'] = bbox_df['width'] / bbox_df['img_width']\n",
    "    bbox_df['rel_height'] = bbox_df['height'] / bbox_df['img_height']\n",
    "\n",
    "    bbox_df.to_csv(bbox_csv_filepath, index=False)\n",
    "    print(bbox_df)\n",
    "\n",
    "    print('finished image bounding box data construction...')\n",
    "    return bbox_df"
   ]
  },
  {
   "cell_type": "code",
   "execution_count": 9,
   "metadata": {},
   "outputs": [],
   "source": [
    "def output_yolov4_label_txt(img_folder, img_name, output_line):\n",
    "    label_name = os.path.splitext(img_name)[0] + '.txt'\n",
    "    f = open(os.path.join(img_folder, label_name), 'a+')\n",
    "    f.write(output_line)\n",
    "    f.write('\\n')\n",
    "    f.close()"
   ]
  },
  {
   "cell_type": "code",
   "execution_count": 10,
   "metadata": {},
   "outputs": [],
   "source": [
    "def construct_all_data(img_folder, mat_file_name, h5_name):\n",
    "    img_bbox_data = img_boundingbox_data_constructor(img_folder, mat_file_name)\n",
    "    print(\"\\nimg_bbox_data:\\n{}\".format(img_bbox_data))\n",
    "\n",
    "    img_bbox_data_list = img_bbox_data.to_dict(orient='records')\n",
    "    # print(img_bbox_data_list)\n",
    "\n",
    "    delete_label_txt = 'rm {}/*.txt'.format(os.path.join(img_folder))\n",
    "    os.system(delete_label_txt)\n",
    "\n",
    "    # for row in img_bbox_data_list[0:10]:\n",
    "    for row in img_bbox_data_list:\n",
    "        output_line = '{} {} {} {} {}'.format(row['label'], row['rel_x_center'], row['rel_y_center'], row['rel_width'], row['rel_height'])\n",
    "        output_yolov4_label_txt(img_folder, row['img_name'], output_line)"
   ]
  },
  {
   "cell_type": "code",
   "execution_count": 11,
   "metadata": {},
   "outputs": [
    {
     "name": "stdout",
     "output_type": "stream",
     "text": [
      "./train/bbox.csv\n",
      "bounding box file: ./train/bbox.csv exists, read from file\n",
      "finished image bounding box data construction...\n",
      "\n",
      "img_bbox_data:\n",
      "        img_name  img_width  img_height  label   top  bottom   left  right  \\\n",
      "0          1.png        741         350      1  77.0   296.0  246.0  327.0   \n",
      "1          1.png        741         350      9  81.0   300.0  323.0  419.0   \n",
      "2          2.png        199          83      2  29.0    61.0   77.0  100.0   \n",
      "3          2.png        199          83      3  25.0    57.0   98.0  124.0   \n",
      "4          3.png         52          23      2   5.0    20.0   17.0   25.0   \n",
      "...          ...        ...         ...    ...   ...     ...    ...    ...   \n",
      "73252  33401.png        120          51      2   6.0    46.0   34.0   59.0   \n",
      "73253  33401.png        120          51      2   4.0    44.0   61.0   86.0   \n",
      "73254  33402.png        113          41      1  10.0    35.0   35.0   42.0   \n",
      "73255  33402.png        113          41      6   8.0    33.0   44.0   59.0   \n",
      "73256  33402.png        113          41      9   9.0    34.0   62.0   79.0   \n",
      "\n",
      "       width  height  rel_x_center  rel_y_center  rel_width  rel_height  \n",
      "0       81.0   219.0      0.386640      0.532857   0.109312    0.625714  \n",
      "1       96.0   219.0      0.500675      0.544286   0.129555    0.625714  \n",
      "2       23.0    32.0      0.444724      0.542169   0.115578    0.385542  \n",
      "3       26.0    32.0      0.557789      0.493976   0.130653    0.385542  \n",
      "4        8.0    15.0      0.403846      0.543478   0.153846    0.652174  \n",
      "...      ...     ...           ...           ...        ...         ...  \n",
      "73252   25.0    40.0      0.387500      0.509804   0.208333    0.784314  \n",
      "73253   25.0    40.0      0.612500      0.470588   0.208333    0.784314  \n",
      "73254    7.0    25.0      0.340708      0.548780   0.061947    0.609756  \n",
      "73255   15.0    25.0      0.455752      0.500000   0.132743    0.609756  \n",
      "73256   17.0    25.0      0.623894      0.524390   0.150442    0.609756  \n",
      "\n",
      "[73257 rows x 14 columns]\n"
     ]
    }
   ],
   "source": [
    "construct_all_data(train_folder, 'digitStruct.mat', 'train_data_processed.h5')"
   ]
  },
  {
   "cell_type": "code",
   "execution_count": 25,
   "metadata": {},
   "outputs": [],
   "source": [
    "obj_folder = '../build/darknet/x64/data/obj'\n",
    "obj_folder_rel2_darknet = './build/darknet/x64/data/obj'\n",
    "\n",
    "valid_folder = '../build/darknet/x64/data/valid'\n",
    "valid_folder_rel2_darknet = './build/darknet/x64/data/valid'\n",
    "\n",
    "files = [int(os.path.splitext(f)[0]) for f in os.listdir(obj_folder) if os.path.isfile(os.path.join(obj_folder, f)) and os.path.splitext(f)[1]=='.png']\n",
    "files.sort()\n",
    "# print(files)"
   ]
  },
  {
   "cell_type": "code",
   "execution_count": 26,
   "metadata": {},
   "outputs": [],
   "source": [
    "train_test_split_ratio = 20\n",
    "train_list = ['{}/{}.png\\n'.format(obj_folder_rel2_darknet, f) for f in files if not (f%train_test_split_ratio)==0]\n",
    "# print(train_list)\n",
    "test_list = ['{}/{}.png\\n'.format(obj_folder_rel2_darknet, f) for f in files if (f%train_test_split_ratio)==0]\n",
    "# print(test_list)"
   ]
  },
  {
   "cell_type": "code",
   "execution_count": 31,
   "metadata": {},
   "outputs": [],
   "source": [
    "files = [int(os.path.splitext(f)[0]) for f in os.listdir(valid_folder) if os.path.isfile(os.path.join(valid_folder, f)) and os.path.splitext(f)[1]=='.png']\n",
    "files.sort()\n",
    "# print(files)\n",
    "valid_list = ['{}/{}.png\\n'.format(valid_folder_rel2_darknet, f) for f in files]\n",
    "# print(valid_list)"
   ]
  },
  {
   "cell_type": "code",
   "execution_count": 32,
   "metadata": {},
   "outputs": [],
   "source": [
    "list_folder = '../build/darknet/x64/data'\n",
    "train_list_filename = 'train.txt'\n",
    "test_list_filename = 'test.txt'\n",
    "valid_list_filename = 'valid.txt'\n",
    "\n",
    "fp = open(os.path.join(list_folder, train_list_filename), 'w')\n",
    "fp.writelines(train_list)\n",
    "fp.close()\n",
    "\n",
    "fp = open(os.path.join(list_folder, test_list_filename), 'w')\n",
    "fp.writelines(test_list)\n",
    "fp.close()\n",
    "\n",
    "fp = open(os.path.join(list_folder, valid_list_filename), 'w')\n",
    "fp.writelines(valid_list)\n",
    "fp.close()\n"
   ]
  },
  {
   "cell_type": "code",
   "execution_count": null,
   "metadata": {},
   "outputs": [],
   "source": [
    "\n"
   ]
  },
  {
   "cell_type": "code",
   "execution_count": null,
   "metadata": {},
   "outputs": [],
   "source": []
  }
 ],
 "metadata": {
  "kernelspec": {
   "display_name": "Python 3",
   "language": "python",
   "name": "python3"
  },
  "language_info": {
   "codemirror_mode": {
    "name": "ipython",
    "version": 3
   },
   "file_extension": ".py",
   "mimetype": "text/x-python",
   "name": "python",
   "nbconvert_exporter": "python",
   "pygments_lexer": "ipython3",
   "version": "3.8.5"
  }
 },
 "nbformat": 4,
 "nbformat_minor": 4
}
