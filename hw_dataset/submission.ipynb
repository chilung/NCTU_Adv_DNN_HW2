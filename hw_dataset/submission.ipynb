{
 "cells": [
  {
   "cell_type": "code",
   "execution_count": 6,
   "metadata": {},
   "outputs": [],
   "source": [
    "import cv2\n",
    "import json"
   ]
  },
  {
   "cell_type": "code",
   "execution_count": 7,
   "metadata": {},
   "outputs": [
    {
     "name": "stderr",
     "output_type": "stream",
     "text": [
      "IOPub data rate exceeded.\n",
      "The notebook server will temporarily stop sending output\n",
      "to the client in order to avoid crashing it.\n",
      "To change this limit, set the config variable\n",
      "`--NotebookApp.iopub_data_rate_limit`.\n",
      "\n",
      "Current values:\n",
      "NotebookApp.iopub_data_rate_limit=1000000.0 (bytes/sec)\n",
      "NotebookApp.rate_limit_window=3.0 (secs)\n",
      "\n"
     ]
    },
    {
     "ename": "AttributeError",
     "evalue": "'NoneType' object has no attribute 'shape'",
     "output_type": "error",
     "traceback": [
      "\u001b[0;31m---------------------------------------------------------------------------\u001b[0m",
      "\u001b[0;31mAttributeError\u001b[0m                            Traceback (most recent call last)",
      "\u001b[0;32m<ipython-input-7-ca6196166566>\u001b[0m in \u001b[0;36m<module>\u001b[0;34m\u001b[0m\n\u001b[1;32m     18\u001b[0m     \u001b[0;31m# print(item)\u001b[0m\u001b[0;34m\u001b[0m\u001b[0;34m\u001b[0m\u001b[0;34m\u001b[0m\u001b[0m\n\u001b[1;32m     19\u001b[0m     \u001b[0mimg\u001b[0m \u001b[0;34m=\u001b[0m \u001b[0mcv2\u001b[0m\u001b[0;34m.\u001b[0m\u001b[0mimread\u001b[0m\u001b[0;34m(\u001b[0m\u001b[0mitem\u001b[0m\u001b[0;34m[\u001b[0m\u001b[0;34m'filename'\u001b[0m\u001b[0;34m]\u001b[0m\u001b[0;34m)\u001b[0m\u001b[0;34m\u001b[0m\u001b[0;34m\u001b[0m\u001b[0m\n\u001b[0;32m---> 20\u001b[0;31m     \u001b[0mimg_height\u001b[0m\u001b[0;34m,\u001b[0m \u001b[0mimg_width\u001b[0m\u001b[0;34m,\u001b[0m \u001b[0m_\u001b[0m \u001b[0;34m=\u001b[0m \u001b[0mimg\u001b[0m\u001b[0;34m.\u001b[0m\u001b[0mshape\u001b[0m\u001b[0;34m\u001b[0m\u001b[0;34m\u001b[0m\u001b[0m\n\u001b[0m\u001b[1;32m     21\u001b[0m     \u001b[0;31m# print('img_height: {}, img_width: {}'.format(img_height, img_width))\u001b[0m\u001b[0;34m\u001b[0m\u001b[0;34m\u001b[0m\u001b[0;34m\u001b[0m\u001b[0m\n\u001b[1;32m     22\u001b[0m \u001b[0;34m\u001b[0m\u001b[0m\n",
      "\u001b[0;31mAttributeError\u001b[0m: 'NoneType' object has no attribute 'shape'"
     ]
    }
   ],
   "source": [
    "def output_transform(img_width, img_height, rel_center_x, rel_center_y, rel_width, rel_height):\n",
    "    center_x = rel_center_x * img_width\n",
    "    center_y = rel_center_y * img_height\n",
    "    width = rel_width * img_width\n",
    "    height = rel_height * img_height\n",
    "    return (round(center_y-height/2), round(center_x-width/2), round(center_y+height/2), round(center_x+width/2))\n",
    "\n",
    "with open('result_92.9.json') as json_file:\n",
    "    data = json.load(json_file)\n",
    "# print(data)\n",
    "\n",
    "i = 0\n",
    "submit_results = []\n",
    "for item in data:\n",
    "    # if i > 3:\n",
    "    #     break\n",
    "    # i += 1\n",
    "    # print(item)\n",
    "    img = cv2.imread(item['filename'])\n",
    "    img_height, img_width, _ = img.shape\n",
    "    # print('img_height: {}, img_width: {}'.format(img_height, img_width))\n",
    "\n",
    "    result = {}\n",
    "    result['bbox'] = [\n",
    "        output_transform(\n",
    "            img_width, img_height,\n",
    "            o['relative_coordinates']['center_x'], o['relative_coordinates']['center_y'],\n",
    "            o['relative_coordinates']['width'], o['relative_coordinates']['height'])\n",
    "        for o in item['objects']]\n",
    "    # print(result['bbox'])\n",
    "    result['score'] = [o['confidence'] for o in item['objects']]\n",
    "    # print(result['score'])\n",
    "    result['label'] = [o['class_id'] if o['class_id']!=0 else 10 for o in item['objects']]\n",
    "    # print(result['label'])\n",
    "    # print(result)\n",
    "\n",
    "    submit_results.append(result)\n",
    "\n",
    "# print(submit_results)\n",
    "with open('submission.json', 'w') as outfile:\n",
    "    json.dump(submit_results, outfile)"
   ]
  },
  {
   "cell_type": "code",
   "execution_count": null,
   "metadata": {},
   "outputs": [],
   "source": []
  }
 ],
 "metadata": {
  "kernelspec": {
   "display_name": "Python 3",
   "language": "python",
   "name": "python3"
  },
  "language_info": {
   "codemirror_mode": {
    "name": "ipython",
    "version": 3
   },
   "file_extension": ".py",
   "mimetype": "text/x-python",
   "name": "python",
   "nbconvert_exporter": "python",
   "pygments_lexer": "ipython3",
   "version": "3.8.5"
  }
 },
 "nbformat": 4,
 "nbformat_minor": 4
}
