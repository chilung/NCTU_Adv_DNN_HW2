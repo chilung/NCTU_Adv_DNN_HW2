{
 "cells": [
  {
   "cell_type": "code",
   "execution_count": 3,
   "metadata": {},
   "outputs": [],
   "source": [
    "import cv2\n",
    "import json"
   ]
  },
  {
   "cell_type": "code",
   "execution_count": 5,
   "metadata": {},
   "outputs": [],
   "source": [
    "def output_transform(img_width, img_height, rel_center_x, rel_center_y, rel_width, rel_height):\n",
    "    center_x = rel_center_x * img_width\n",
    "    center_y = rel_center_y * img_height\n",
    "    width = rel_width * img_width\n",
    "    height = rel_height * img_height\n",
    "    return (round(center_y-height/2), round(center_x-width/2), round(center_y+height/2), round(center_x+width/2))\n",
    "\n",
    "with open('result_92.9.json') as json_file:\n",
    "    data = json.load(json_file)\n",
    "# print(data)\n",
    "\n",
    "i = 0\n",
    "submit_results = []\n",
    "for item in data:\n",
    "    # if i > 3:\n",
    "    #     break\n",
    "    # i += 1\n",
    "    # print(item)\n",
    "    img = cv2.imread(item['filename'])\n",
    "    img_height, img_width, _ = img.shape\n",
    "    # print('img_height: {}, img_width: {}'.format(img_height, img_width))\n",
    "\n",
    "    result = {}\n",
    "    result['bbox'] = [\n",
    "        output_transform(\n",
    "            img_width, img_height,\n",
    "            o['relative_coordinates']['center_x'], o['relative_coordinates']['center_y'],\n",
    "            o['relative_coordinates']['width'], o['relative_coordinates']['height'])\n",
    "        for o in item['objects']]\n",
    "    # print(result['bbox'])\n",
    "    result['score'] = [o['confidence'] for o in item['objects']]\n",
    "    # print(result['score'])\n",
    "    result['label'] = [o['class_id'] if o['class_id']!=0 else 10 for o in item['objects']]\n",
    "    # print(result['label'])\n",
    "    # print(result)\n",
    "\n",
    "    submit_results.append(result)\n",
    "\n",
    "# print(submit_results)\n",
    "with open('submission.json', 'w') as outfile:\n",
    "    json.dump(submit_results, outfile)"
   ]
  },
  {
   "cell_type": "code",
   "execution_count": null,
   "metadata": {},
   "outputs": [],
   "source": []
  }
 ],
 "metadata": {
  "kernelspec": {
   "display_name": "Python 3",
   "language": "python",
   "name": "python3"
  },
  "language_info": {
   "codemirror_mode": {
    "name": "ipython",
    "version": 3
   },
   "file_extension": ".py",
   "mimetype": "text/x-python",
   "name": "python",
   "nbconvert_exporter": "python",
   "pygments_lexer": "ipython3",
   "version": "3.8.5"
  }
 },
 "nbformat": 4,
 "nbformat_minor": 4
}
